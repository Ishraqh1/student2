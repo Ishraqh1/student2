{
 "cells": [
  {
   "cell_type": "markdown",
   "metadata": {},
   "source": [
    "---\n",
    "toc: true\n",
    "comments: true\n",
    "layout: post\n",
    "title: Iteration Review \n",
    "description: Iteration Review \n",
    "type: hacks\n",
    "courses: { compsci: {week: 5} }\n",
    "---"
   ]
  },
  {
   "cell_type": "markdown",
   "metadata": {},
   "source": [
    "- Iteration is the repeating part of the algorithm that repeats \n",
    "- Iteration will loop until the condition is true until it is out of the loop\n",
    "    - Later thought about: Go over for loops in the code → explain how it can go back and forth in the loop\n",
    "- Go over break functions. When it hits a certain value in the string, use a break function to stop the loop\n",
    "- Go over the continue function, which can be used to just skip over a value\n",
    "- USE A PIECE OF CANDY → Incentivizes people to come out \n",
    "- Range function → Will only print up to one less thats in the range always. Take this into account \n",
    "     - Later thought about: This helped me on the college board quiz where I was trying to understand some of the questions where we have to   print a range of values \n"
   ]
  },
  {
   "cell_type": "markdown",
   "metadata": {},
   "source": [
    "What could we have done better? "
   ]
  },
  {
   "cell_type": "markdown",
   "metadata": {},
   "source": [
    "I think our group could have spent more time practicing what we went over in the review. Since, I realized while we were presenting that we went over some information twice that we didn't need to in the group. I also think that Hack 3 could have been a bit more unique and different then hack 2. Me and Aditya could have worked together, since Sumedha had set up much of the lessson that taught hack 3, and we could have gone over a lesson that combines what we did. Maybe have them print a list of values, but have them skip and stop the function at certain values. And then create multiplication tables with everything. "
   ]
  }
 ],
 "metadata": {
  "language_info": {
   "name": "python"
  },
  "orig_nbformat": 4
 },
 "nbformat": 4,
 "nbformat_minor": 2
}
