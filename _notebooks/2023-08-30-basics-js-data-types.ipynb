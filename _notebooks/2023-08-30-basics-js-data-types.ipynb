{
 "cells": [
  {
   "cell_type": "raw",
   "metadata": {},
   "source": [
    "---\n",
    "title: Javascript Data Types/Lists (In Progress)\n",
    "hide: True\n",
    "description: A Tech Talk on javascript data types and how to use with lists\n",
    "type: ccc\n",
    "permalink: /basics/datatypes\n",
    "author: Rohan Juneja\n",
    "---"
   ]
  },
  {
   "cell_type": "raw",
   "metadata": {},
   "source": [
    "{% include nav_basics.html %}\n"
   ]
  },
  {
   "cell_type": "markdown",
   "metadata": {},
   "source": [
    "# string datatype\n",
    "- We discussed that strings store text\n",
    "- It is useful to know a few functions that can be used on string manipulation (see example below)\n",
    "- We can see the type of data using `typeof` operator"
   ]
  },
  {
   "cell_type": "code",
   "execution_count": 4,
   "metadata": {
    "vscode": {
     "languageId": "html"
    }
   },
   "outputs": [
    {
     "data": {
      "text/html": [
       "<script>\n",
       "\n",
       "// assign variable\n",
       "var hello = \"Hello World\";\n",
       "console.log(\"variable: hello\")\n",
       "console.log(hello)\n",
       "\n",
       "// seeing the type of this data\n",
       "console.log(\"variable: hello check typeof\")\n",
       "console.log(typeof hello)\n",
       "\n",
       "// add strings together\n",
       "console.log(\"string concatenation: hello + Rohan!\")\n",
       "console.log(hello + \" Rohan!\")\n",
       "\n",
       "// getting a certain component of this text\n",
       "// (here the _ is a standin for the space character)\n",
       "// H  e  l  l  o  _  W  o  r  l  d\n",
       "// 0  1  2  3  4  5  6  7  8  9  10\n",
       "// if we want the hello component, we want characters 0-4, so we use the following function\n",
       "// (note how we use 0 and 5 as arguments, the last character is NOT INCLUSIVE)\n",
       "console.log(\"substring: hello 0, 5\")\n",
       "console.log(hello.substring(0, 5))\n",
       "\n",
       "// useful functions to make string lowercase or uppercase\n",
       "console.log(\"string convert to upper case: hello toUpperCase\")\n",
       "console.log(hello.toUpperCase())\n",
       "console.log(\"string convert to lower case: hello toLowerCase\")\n",
       "console.log(hello.toLowerCase())\n",
       "\n",
       "// useful function to check if one string is contained in another\n",
       "console.log(\"string includes: hello includes Rohan\")\n",
       "console.log(hello.includes(\"Rohan\"))\n",
       "console.log(\"string includes: hello includes Hello\")\n",
       "console.log(hello.includes(\"Hello\"))\n",
       "</script>\n"
      ],
      "text/plain": [
       "<IPython.core.display.HTML object>"
      ]
     },
     "metadata": {},
     "output_type": "display_data"
    }
   ],
   "source": [
    "%%html\n",
    "<script>\n",
    "\n",
    "// assign variable\n",
    "var hello = \"Hello World\";\n",
    "console.log(\"variable: hello\")\n",
    "console.log(hello)\n",
    "\n",
    "// seeing the type of this data\n",
    "console.log(\"variable: hello check typeof\")\n",
    "console.log(typeof hello)\n",
    "\n",
    "// add strings together\n",
    "console.log(\"string concatenation: hello + Rohan!\")\n",
    "console.log(hello + \" Rohan!\")\n",
    "\n",
    "// getting a certain component of this text\n",
    "// (here the _ is a standin for the space character)\n",
    "// H  e  l  l  o  _  W  o  r  l  d\n",
    "// 0  1  2  3  4  5  6  7  8  9  10\n",
    "// if we want the hello component, we want characters 0-4, so we use the following function\n",
    "// (note how we use 0 and 5 as arguments, the last character is NOT INCLUSIVE)\n",
    "console.log(\"substring: hello 0, 5\")\n",
    "console.log(hello.substring(0, 5))\n",
    "\n",
    "// useful functions to make string lowercase or uppercase\n",
    "console.log(\"string convert to upper case: hello toUpperCase\")\n",
    "console.log(hello.toUpperCase())\n",
    "console.log(\"string convert to lower case: hello toLowerCase\")\n",
    "console.log(hello.toLowerCase())\n",
    "\n",
    "// useful function to check if one string is contained in another\n",
    "console.log(\"string includes: hello includes Rohan\")\n",
    "console.log(hello.includes(\"Rohan\"))\n",
    "console.log(\"string includes: hello includes Hello\")\n",
    "console.log(hello.includes(\"Hello\"))\n",
    "</script>"
   ]
  },
  {
   "cell_type": "markdown",
   "metadata": {},
   "source": [
    "# number datatype\n",
    "- we discussed that numbers store numbers\n",
    "- here are some useful ideas in javascript to deal with numbers"
   ]
  },
  {
   "cell_type": "code",
   "execution_count": 5,
   "metadata": {},
   "outputs": [
    {
     "data": {
      "text/html": [
       "<script>\n",
       "console.log(\"Numbers info\")\n",
       "\n",
       "// assign numbers to varialbes\n",
       "console.log(\"variable: num1\")\n",
       "var num1 = 9\n",
       "console.log(num1)\n",
       "console.log(\"variable: num2\")\n",
       "var num2 = 6\n",
       "console.log(num2)\n",
       "\n",
       "\n",
       "// simple operations with numbers\n",
       "console.log(\"Operations\")\n",
       "console.log(\"subtract: num1 - num2\")\n",
       "console.log(num1 - num2)\n",
       "console.log(\"add: num1 + num2\")\n",
       "console.log(num1 + num2)\n",
       "console.log(\"divide: num1 / num2\")\n",
       "console.log(num1 / num2)\n",
       "console.log(\"multiply: num1 * num2\")\n",
       "console.log(num1 * num2)\n",
       "console.log(\"remainder (modulo): num1 % num2\")\n",
       "console.log(num1 % num2)\n",
       "\n",
       "// converting numbers to text\n",
       "console.log(\"number convert string: num1\")\n",
       "console.log(num1.toString())\n",
       "\n",
       "// rounding a number\n",
       "console.log(\"round(num1 / num2)\")\n",
       "console.log(Math.round(num1 / num2))\n",
       "\n",
       "// rounding a number to decimal palces\n",
       "console.log(\"set decimals to 2 places (num1 / num2)\")\n",
       "console.log((num1 / num2).toFixed(2))\n",
       "</script>\n"
      ],
      "text/plain": [
       "<IPython.core.display.HTML object>"
      ]
     },
     "metadata": {},
     "output_type": "display_data"
    }
   ],
   "source": [
    "%%html\n",
    "<script>\n",
    "console.log(\"Numbers info\")\n",
    "\n",
    "// assign numbers to varialbes\n",
    "console.log(\"variable: num1\")\n",
    "var num1 = 9\n",
    "console.log(num1)\n",
    "console.log(\"variable: num2\")\n",
    "var num2 = 6\n",
    "console.log(num2)\n",
    "\n",
    "\n",
    "// simple operations with numbers\n",
    "console.log(\"Operations\")\n",
    "console.log(\"subtract: num1 - num2\")\n",
    "console.log(num1 - num2)\n",
    "console.log(\"add: num1 + num2\")\n",
    "console.log(num1 + num2)\n",
    "console.log(\"divide: num1 / num2\")\n",
    "console.log(num1 / num2)\n",
    "console.log(\"multiply: num1 * num2\")\n",
    "console.log(num1 * num2)\n",
    "console.log(\"remainder (modulo): num1 % num2\")\n",
    "console.log(num1 % num2)\n",
    "\n",
    "// converting numbers to text\n",
    "console.log(\"number convert string: num1\")\n",
    "console.log(num1.toString())\n",
    "\n",
    "// rounding a number\n",
    "console.log(\"round(num1 / num2)\")\n",
    "console.log(Math.round(num1 / num2))\n",
    "\n",
    "// rounding a number to decimal palces\n",
    "console.log(\"set decimals to 2 places (num1 / num2)\")\n",
    "console.log((num1 / num2).toFixed(2))\n",
    "</script>"
   ]
  },
  {
   "cell_type": "markdown",
   "metadata": {},
   "source": [
    "# Array datatype\n",
    "- an array is just a list of other datatypes\n",
    "- put all the items in square brackets\n",
    "- some useful methods below"
   ]
  },
  {
   "cell_type": "code",
   "execution_count": 6,
   "metadata": {},
   "outputs": [
    {
     "data": {
      "text/html": [
       "<script>\n",
       "console.log(\"Arrays\")\n",
       "\n",
       "var str1 = \"A string\"\n",
       "\n",
       "var arr = [str1, \"Other data\", \"more data\"]\n",
       "\n",
       "// seeing what is in the array\n",
       "console.log(arr)\n",
       "\n",
       "// getting one thing from an array\n",
       "// \"A string\" \"Other Data\" \"more data\"\n",
       "//    0           1            2\n",
       "console.log(arr[1])\n",
       "\n",
       "// adding something new to the array\n",
       "arr.push(\"more data\")\n",
       "console.log(arr)\n",
       "\n",
       "// removing the last element of array\n",
       "arr.pop()\n",
       "console.log(arr)\n",
       "</script>\n"
      ],
      "text/plain": [
       "<IPython.core.display.HTML object>"
      ]
     },
     "metadata": {},
     "output_type": "display_data"
    }
   ],
   "source": [
    "%%html\n",
    "<script>\n",
    "console.log(\"Arrays\")\n",
    "\n",
    "var str1 = \"A string\"\n",
    "\n",
    "var arr = [str1, \"Other data\", \"more data\"]\n",
    "\n",
    "// seeing what is in the array\n",
    "console.log(arr)\n",
    "\n",
    "// getting one thing from an array\n",
    "// \"A string\" \"Other Data\" \"more data\"\n",
    "//    0           1            2\n",
    "console.log(arr[1])\n",
    "\n",
    "// adding something new to the array\n",
    "arr.push(\"more data\")\n",
    "console.log(arr)\n",
    "\n",
    "// removing the last element of array\n",
    "arr.pop()\n",
    "console.log(arr)\n",
    "</script>"
   ]
  },
  {
   "cell_type": "markdown",
   "metadata": {},
   "source": []
  },
  {
   "cell_type": "markdown",
   "metadata": {},
   "source": []
  }
 ],
 "metadata": {
  "kernelspec": {
   "display_name": "Python 3 (ipykernel)",
   "language": "python",
   "name": "python3"
  },
  "language_info": {
   "codemirror_mode": {
    "name": "ipython",
    "version": 3
   },
   "file_extension": ".py",
   "mimetype": "text/x-python",
   "name": "python",
   "nbconvert_exporter": "python",
   "pygments_lexer": "ipython3",
   "version": "3.11.4"
  }
 },
 "nbformat": 4,
 "nbformat_minor": 4
}
