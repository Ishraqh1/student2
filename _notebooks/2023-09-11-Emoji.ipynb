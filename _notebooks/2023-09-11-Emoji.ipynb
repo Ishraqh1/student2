{
 "cells": [
  {
   "cell_type": "code",
   "execution_count": null,
   "metadata": {},
   "outputs": [],
   "source": [
    "---\n",
    "toc: true\n",
    "comments: True\n",
    "layout: post\n",
    "title: Emoji\n",
    "description: Emoji chat\n",
    "type: Hacks(Todo)\n",
    "courses: { compsci: {week: 3} }\n",
    "---\n",
    "\n",
    "from emoji import emojize \n",
    "print(emojize(\":thumbs_up: Python is awesome! :grinning_face:\"))\n",
    "\n"
   ]
  }
 ],
 "metadata": {
  "language_info": {
   "name": "python"
  },
  "orig_nbformat": 4
 },
 "nbformat": 4,
 "nbformat_minor": 2
}
