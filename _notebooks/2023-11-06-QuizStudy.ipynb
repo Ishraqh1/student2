{
 "cells": [
  {
   "cell_type": "markdown",
   "metadata": {},
   "source": [
    "---\n",
    "toc: true\n",
    "comments: true\n",
    "layout: post\n",
    "title: Quiz Study \n",
    "description: Quiz Study \n",
    "type: hacks\n",
    "courses: { compsci: {week: 7} }\n",
    "---"
   ]
  },
  {
   "cell_type": "markdown",
   "metadata": {},
   "source": [
    "I left the link to the notes that I like to take for studying for this quiz and preparing myself for the passion project and learning from mistakes that I made on the project. "
   ]
  },
  {
   "cell_type": "markdown",
   "metadata": {},
   "source": [
    "3.8 AP Daily Video: Iteration lesson \n",
    "- Iteration is the repeating part of the algorithm that repeats \n",
    "- Iteration will loop until the condition is true until it is out of the loop\n",
    "- Later thought about: Go over for loops in the code → explain how it can go back and forth in the loop\n",
    "- Go over break functions. When it hits a certain value in the string, use a break function to stop the loop\n",
    "- Go over the continue function, which can be used to just skip over a value\n",
    "- USE A PIECE OF CANDY → Incentivizes people to come out \n",
    "- Range function → Will only print up to one less thats in the range always. Take this into account \n",
    "- Later thought about: This helped me on the college board quiz where I was trying to understand some of the questions where we have to print a range of values \n",
    "\n",
    "3.4 AP Daily Video: Strings(use this to review mistakes made on the quiz)\n",
    "- Strings are ordered sequences of characters\n",
    "- Characters can be numbers, letters, more\n",
    "- Some procedures can be used with strings\n",
    "- len(str) w/ str being a string running this function will run whats in the string with the amount of letters for each word. \n",
    "- concat(str1, str2) → This will just return both str1 and str2 right back to back \n",
    "- substring (str1, start, length) \n",
    "- So you start at a certain letter and then end at a certain letter within str1. Str1 can be a word or any kind of value. \n",
    "\n",
    "3.2 AP Daily Video: Data Abstraction\n",
    "- If anything is in Alist it will replace the Alist\n",
    "- Lists allow for data abstraction\n",
    "- Bundle variables through strings, numbers, characters, etc\n",
    "- Give one name to a set of memory cells\n",
    "- You don’t need to know how many variables will be needed. \n",
    "- Create an empty list in Text form and in Block Form \n",
    "- Set one list equal to another in block form \n",
    "\n",
    "How to integrate Text Extender/Chat GPT into VS Code(Use this for the text extender): \n",
    "- Start with a VS code extension that you can download(you have to download Genie AI as this since its he most liked one) \n",
    "- You can start using an API that Open AI already made. We can then use the Fetch Data, which we’ve already coded from the frontend to fetch this data which we could have inserted into our backend. The code for fetch is shown below. \n",
    "- Create a new secret key which you can name\n",
    "- There needs to be another API set up which has random texts from the book\n",
    "- You use a random function to pull texts from the book and then you employ the Text Extender AI code which will read the text and blurt out random text similar to that \n",
    "\n",
    "\n",
    "\n"
   ]
  }
 ],
 "metadata": {
  "language_info": {
   "name": "python"
  },
  "orig_nbformat": 4
 },
 "nbformat": 4,
 "nbformat_minor": 2
}
