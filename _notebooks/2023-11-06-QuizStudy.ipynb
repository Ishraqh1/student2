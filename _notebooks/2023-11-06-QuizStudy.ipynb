{
 "cells": [
  {
   "cell_type": "markdown",
   "metadata": {},
   "source": [
    "---\n",
    "toc: true\n",
    "comments: true\n",
    "layout: post\n",
    "title: Quiz Study \n",
    "description: Quiz Study \n",
    "type: tangibles\n",
    "courses: { compsci: {week: 5} }\n",
    "---"
   ]
  },
  {
   "cell_type": "markdown",
   "metadata": {},
   "source": [
    "I left the link to the notes that I like to take for studying for this quiz and preparing myself for the passion project and learning from mistakes that I made on the project. "
   ]
  },
  {
   "cell_type": "markdown",
   "metadata": {},
   "source": [
    "3.8 AP Daily Video: Iteration lesson \n",
    "- Iteration is the repeating part of the algorithm that repeats \n",
    "- Iteration will loop until the condition is true until it is out of the loop\n",
    "- Later thought about: Go over for loops in the code → explain how it can go back and forth in the loop\n",
    "- Go over break functions. When it hits a certain value in the string, use a break function to stop the loop\n",
    "- Go over the continue function, which can be used to just skip over a value\n",
    "- USE A PIECE OF CANDY → Incentivizes people to come out \n",
    "- Range function → Will only print up to one less thats in the range always. Take this into account \n",
    "- Later thought about: This helped me on the college board quiz where I was trying to understand some of the questions where we have to print a range of values \n",
    "\n",
    "3.4 AP Daily Video: Strings(use this to review mistakes made on the quiz)\n",
    "- Strings are ordered sequences of characters\n",
    "- Characters can be numbers, letters, more\n",
    "- Some procedures can be used with strings\n",
    "- len(str) w/ str being a string running this function will run whats in the string with the amount of letters for each word. \n",
    "- concat(str1, str2) → This will just return both str1 and str2 right back to back \n",
    "- substring (str1, start, length) \n",
    "- So you start at a certain letter and then end at a certain letter within str1. Str1 can be a word or any kind of value. \n",
    "\n",
    "3.2 AP Daily Video: Data Abstraction\n",
    "- If anything is in Alist it will replace the Alist\n",
    "- Lists allow for data abstraction\n",
    "- Bundle variables through strings, numbers, characters, etc\n",
    "- Give one name to a set of memory cells\n",
    "- You don’t need to know how many variables will be needed. \n",
    "- Create an empty list in Text form and in Block Form \n",
    "- Set one list equal to another in block form \n",
    "\n",
    "How to integrate Text Extender/Chat GPT into VS Code(Use this for the text extender): \n",
    "- Start with a VS code extension that you can download(you have to download Genie AI as this since its he most liked one) \n",
    "- You can start using an API that Open AI already made. We can then use the Fetch Data, which we’ve already coded from the frontend to fetch this data which we could have inserted into our backend. The code for fetch is shown below. \n",
    "- Create a new secret key which you can name\n",
    "- There needs to be another API set up which has random texts from the book\n",
    "- You use a random function to pull texts from the book and then you employ the Text Extender AI code which will read the text and blurt out random text similar to that \n",
    "\n",
    "\n",
    "\n"
   ]
  },
  {
   "cell_type": "code",
   "execution_count": null,
   "metadata": {
    "vscode": {
     "languageId": "plaintext"
    }
   },
   "outputs": [],
   "source": [
    "<!-- <div class=\"container\">\n",
    "       <!--  Shopping cart table wrapper  -->\n",
    "       <div id=\"shopping-cart\">\n",
    "           <div class=\"txt-heading\">\n",
    "               <h1>Shopping cart</h1>\n",
    "           </div>\n",
    "           <a onClick=\"emptyCart()\" id=\"btnEmpty\">Empty Cart</a>\n",
    "           <table class=\"tbl-cart\" cellpadding=\"10\" cellspacing=\"1\">\n",
    "               <thead>\n",
    "                   <tr>\n",
    "                       <th>Name</th>\n",
    "                       <th class='text-right' width=\"10%\">Unit Price</th>\n",
    "                       <th class='text-right' width=\"5%\">Quantity</th>\n",
    "                       <th class='text-right' width=\"10%\">Sub Total</th>\n",
    "                   </tr>\n",
    "               </thead>\n",
    "               <!--  Cart table to load data on \"add to cart\" action -->\n",
    "               <tbody id=\"cartTableBody\">\n",
    "               </tbody>\n",
    "               <tfoot>\n",
    "                   <tr>\n",
    "                       <td class=\"text-right\">Total:</td>\n",
    "                       <td id=\"itemCount\" class=\"text-right\" colspan=\"2\"></td>\n",
    "                       <td id=\"totalAmount\" class=\"text-right\"></td>\n",
    "                   </tr>\n",
    "               </tfoot>\n",
    "           </table>\n",
    "       </div>\n",
    "       <!-- Product gallery shell to load HTML from JavaScript code -->\n",
    "       <div id=\"product-grid\">\n",
    "           <div class=\"txt-heading\">\n",
    "               <h1>Products</h1>\n",
    "           </div>\n",
    "           <div id=\"product-item-container\"></div>\n",
    "       </div>\n",
    "   </div> -->\n"
   ]
  },
  {
   "cell_type": "markdown",
   "metadata": {},
   "source": [
    "Below is code for an add to cart funciton. This is something I'm trying to learn more about and how we could invovle it in our own code. <div id=\"shopping-cart\"> Serves as the container for which the books within the cart are actually stored. <a onClick=\"emptyCart() Is what is used to emtpy the cart, when the button is clicked there is a JavaScript command that actually empties out the cart.\n"
   ]
  },
  {
   "cell_type": "code",
   "execution_count": null,
   "metadata": {
    "vscode": {
     "languageId": "plaintext"
    }
   },
   "outputs": [],
   "source": [
    " $(document).ready(function() {\n",
    "   var productItem = [{\n",
    "           productName: \"FinePix Pro2 3D Camera\",\n",
    "           price: \"1800.00\",\n",
    "           photo: \"camera.jpg\"\n",
    "       },\n",
    "       {\n",
    "           productName: \"EXP Portable Hard Drive\",\n",
    "           price: \"800.00\",\n",
    "           photo: \"external-hard-drive.jpg\"\n",
    "       },\n",
    "       {\n",
    "           productName: \"Luxury Ultra thin Wrist Watch\",\n",
    "           price: \"500.00\",\n",
    "           photo: \"laptop.jpg\"\n",
    "       },\n",
    "       {\n",
    "           productName: \"XP 1155 Intel Core Laptop\",\n",
    "           price: \"1000.00\",\n",
    "           photo: \"watch.jpg\"\n",
    "       }];\n",
    "   showProductGallery(productItem);\n",
    "});\n",
    "\n",
    "\n",
    "function showProductGallery(product) {\n",
    "   //Iterate javascript shopping cart array\n",
    "   var productHTML = \"\";\n",
    "   product.forEach(function(item) {\n",
    "       productHTML += '<div class=\"product-item\">'+\n",
    "                   '<img src=\"product-images/' + item.photo + '\">'+\n",
    "                   '<div class=\"productname\">' + item.productName + '</div>'+\n",
    "                   '<div class=\"price\">$<span>' + item.price + '</span></div>'+\n",
    "                   '<div class=\"cart-action\">'+\n",
    "                       '<input type=\"text\" class=\"product-quantity\" name=\"quantity\" value=\"1\" size=\"2\" />'+\n",
    "                       '<input type=\"submit\" value=\"Add to Cart\" class=\"add-to-cart\" onClick=\"addToCart(this)\" />'+\n",
    "                   '</div>'+\n",
    "               '</div>';\n",
    "               \"<tr>\";\n",
    "      \n",
    "   });\n",
    "   $('#product-item-container').html(productHTML);\n",
    "}\n"
   ]
  },
  {
   "cell_type": "markdown",
   "metadata": {},
   "source": [
    "This code above is also for the add to cart function. So this code is interesting, it doesn't exactly use teh addtoCart function but it does use an \"onClick\" which basically does what the add to cart function would traditionally do by adding something to the cart. The showProductGallery, it uses a forEach loop which basically generates the HTML code to display the product information in the product gallery. "
   ]
  }
 ],
 "metadata": {
  "language_info": {
   "name": "python"
  },
  "orig_nbformat": 4
 },
 "nbformat": 4,
 "nbformat_minor": 2
}
