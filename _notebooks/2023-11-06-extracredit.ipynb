{
 "cells": [
  {
   "cell_type": "markdown",
   "metadata": {},
   "source": [
    "---\n",
    "toc: true\n",
    "comments: true\n",
    "layout: post\n",
    "title: Extra Credit\n",
    "description: Extra credit with three other groups \n",
    "type: tangibles\n",
    "courses: { compsci: {week: 7} }\n",
    "---"
   ]
  },
  {
   "cell_type": "markdown",
   "metadata": {},
   "source": [
    "Austins Group: The team presented a unique weather application with a distinct feature set, making it stand out among the projects. Unfortunately, they couldn't fully showcase their features due to a backend crash. They utilized a weather API to predict weather trends and effectively displayed real-time temperatures using a separate API in their frontend. The user interface was commendable, but it would have been even more compelling if the five-year weather prediction graph had been functional. Overall, considering the uniqueness and potential of the project, it deserves a 4.8 out of 5, with some features excluded due to the backend crash.\n",
    "\n",
    "Hanlun’s Group: Hanlun’s Group created an impressive chess application, particularly through Yeongsu Demo, displaying an elegant and functional chess game. They incorporated the Whisp chatting system with a UI resembling popular platforms like Discord. The uniqueness lies in how the chess game communicates move changes via post requests to AWS and displays the moves on the opponent's side. The Whisp's ability to edit the database through a URL provides valuable moderation features. Application-wise, the chess game excels, but the Whisp could benefit from further user management features. Overall, the project earns an 8.8 out of 9, showcasing uniqueness and impressive functionality.\n",
    "\n",
    "Advik’s Group: The team showcased an appealing project with a touch of humor, targeting a specific audience with a Breaking Bad theme. The concept of a song finder was intriguing, although it couldn't be fully demonstrated due to server crashes. Their Breaking Bad simulator added a fun and entertaining dimension to the project. Knowledge-wise, they effectively implemented a backend that communicated with the frontend for music-related tasks. Usability could be improved with more attention to frontend design, but the functional core of the project holds promise with further refinement. Overall, the project garners an 8.7 out of 9 for its creative approach, promising features, and potential for enhancement."
   ]
  }
 ],
 "metadata": {
  "language_info": {
   "name": "python"
  },
  "orig_nbformat": 4
 },
 "nbformat": 4,
 "nbformat_minor": 2
}
