{
 "cells": [
  {
   "cell_type": "markdown",
   "metadata": {},
   "source": [
    "---\n",
    "toc: true\n",
    "comments: true\n",
    "layout: post\n",
    "title: Overall Learning\n",
    "description: What I learned this trimester and what I will bring with me into Tri 2 \n",
    "type: hacks\n",
    "courses: { compsci: {week: 7} }\n",
    "---"
   ]
  },
  {
   "cell_type": "markdown",
   "metadata": {},
   "source": [
    "I'm glad about everything I've been able to learn over the course of the trimester. I've spent time with my group understanding how Flask works, JavaScript, Python, and more. I've been able to see the connection that JavaScript in the frontend can have with data in the backend through an API that's in Python. This sort of connection between various coding languages is something I didn't fully understand before, but I'm glad I do now. Although I felt there were points this trimester where I wasn't perfect, I'm glad that I've shown improvement in this trimester and that I'm committed as a coder.\n",
    "\n",
    "There are still many things that I'm hoping to grow from. My understanding of iterations and loops is something I'm hoping to build upon, as well as being better with Pseudo Code, which I know is something we touched on this trimester but is something that I can help grow on, especially since this is the format for the college board. I also hope to keep taking advantage of group work and being the Scrum Master to be a successful leader and hard worker. There were definitely areas this trimester where we ran into problems, like ideas for the passion project, but I felt that our group did a good job of coming together and figuring out a solution that we could all collectively work on together.\n",
    "\n",
    "I will be the first to admit that I haven't been perfect this trimester. I've made mistakes and at points I haven't bought into group work and giving my all to improving work. I want to admit that myself. But over the last few weeks, I've spent hours each day perfecting our project, working from those around me, and recognizing that my growth as a coder is a by product of the amount of time that I'm willing to put into it. I want to say that I will countinue this as I progress into Trimester 2, and I want to put the most amount of time in to be the best coder I can be. \n",
    "\n",
    "The way I learn in a team is how I countinue myself as a scrum master and I'm able to countinue growing by being attentive and detail oriented about the things were doing. I want to understand how the code works in the back end, how AWS deployment is invovled in the website, and how front end brings everything together. The passion project definetly intorduced me to elements of this, but I hope to grow on these skills. \n",
    "\n",
    "Our group could have done a better job I think at working together earlier on. I think there were points where there was a disconnect between what we wanted to do on the frontend and backend. Discord calls and meeting at the 4s Library showed me that simply speaking to one another and maintaining openess will be the best way to stay on the same beat as a team. "
   ]
  }
 ],
 "metadata": {
  "language_info": {
   "name": "python"
  },
  "orig_nbformat": 4
 },
 "nbformat": 4,
 "nbformat_minor": 2
}
