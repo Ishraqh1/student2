{
 "cells": [
  {
   "cell_type": "markdown",
   "metadata": {},
   "source": [
    "---\n",
    "toc: true\n",
    "comments: true\n",
    "layout: post\n",
    "title: Overall Learning\n",
    "description: What I learned this trimester and what I will bring with me into Tri 2 \n",
    "type: hacks\n",
    "courses: { compsci: {week: 7} }\n",
    "---"
   ]
  },
  {
   "cell_type": "markdown",
   "metadata": {},
   "source": [
    "I'm glad about everything I've been able to learn over the course of the trimester. I've spent time with my group understanding how Flask works, JavaScript, Python, and more. I've been able to see the connection that JavaScript in the frontend can have with data in the backend through an API that's in Python. This sort of connection between various coding languages is something I didn't fully understand before, but I'm glad I do now. Although I felt there were points this trimester where I wasn't perfect, I'm glad that I've shown improvement in this trimester and that I'm committed as a coder.\n",
    "\n",
    "There are still many things that I'm hoping to grow from. My understanding of iterations and loops is something I'm hoping to build upon, as well as being better with Pseudo Code, which I know is something we touched on this trimester but is something that I can help grow on, especially since this is the format for the college board. I also hope to keep taking advantage of group work and being the Scrum Master to be a successful leader and hard worker. There were definitely areas this trimester where we ran into problems, like ideas for the passion project, but I felt that our group did a good job of coming together and figuring out a solution that we could all collectively work on together."
   ]
  }
 ],
 "metadata": {
  "language_info": {
   "name": "python"
  },
  "orig_nbformat": 4
 },
 "nbformat": 4,
 "nbformat_minor": 2
}
