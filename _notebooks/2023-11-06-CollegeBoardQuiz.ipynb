{
 "cells": [
  {
   "cell_type": "markdown",
   "metadata": {},
   "source": [
    "---\n",
    "toc: true\n",
    "comments: true\n",
    "layout: post\n",
    "title: College Board Quiz\n",
    "description: College Board Quiz Review \n",
    "type: tangibles\n",
    "courses: { compsci: {week: 6} }\n",
    "---"
   ]
  },
  {
   "cell_type": "markdown",
   "metadata": {},
   "source": [
    "Below is a review of every single question that I searched up for help or made a mistake on. I created an indepth review of every mistake I made and what I learned. "
   ]
  },
  {
   "cell_type": "markdown",
   "metadata": {},
   "source": [
    "Question 11. This question was based on a pie chart trying to make it where when you spin you want to have Red and Yellow appear 1/6 of the time for both individually, and then have the other 2/3 be for the other probabilities. The code segments establish an equal probability for there to be Red and Yellow, with there being 2/3 probability for the other option. Link to question: https://apclassroom.collegeboard.org/103/assessments/results/54146602/performance/1123149"
   ]
  },
  {
   "cell_type": "markdown",
   "metadata": {},
   "source": [
    "Question 21. I gave the incorrect directions for how the arrow should move. I misunderstood that when it turns right, it has to turn right three times in order to swirl all around and then keep moving straight to get back to where it was. Link to question: https://apclassroom.collegeboard.org/103/assessments/results/54146602/performance/1123159"
   ]
  },
  {
   "cell_type": "markdown",
   "metadata": {},
   "source": [
    "Question 14. Since program B takes the i value from program A and then adds 1 to it, program B is similar to A, it just has values that are plus 1. Since we have a domain restriction on program A that prints values from 1 to 10, we have the same for B, its just +1 for each value. Link to question: https://apclassroom.collegeboard.org/103/assessments/results/54146602/performance/1123152"
   ]
  },
  {
   "cell_type": "markdown",
   "metadata": {},
   "source": [
    "Question 26. The problem is that first you have to establish an if statement that is correct. The reason why the answer is A is b/c if it reaches a coerner you want it to turn right. Not turn right and move forward. That's becasue if it hits a corner then it turns right, but other wise it should always be moving straight. It doesnt make sense for it to turn right and keep moving forward, when after you turn right at the corner, all you can do is move straight. Link to question: https://apclassroom.collegeboard.org/103/assessments/results/54146602/performance/1123164"
   ]
  },
  {
   "cell_type": "markdown",
   "metadata": {},
   "source": [
    "Question 31. I did understand that program 1 worked, but I didn't understand that program 2 worked. Again, it sets up an if statement which establishes that if you can move forward move forward, but once you hit the corner and then turn left and then afterwards it will keep moving forward. This works perfectly since the box were trying to get to is in the top left corner of the grid. Link to question: https://apclassroom.collegeboard.org/103/assessments/results/54146602/performance/1123171"
   ]
  },
  {
   "cell_type": "markdown",
   "metadata": {},
   "source": [
    "Question 39. Messages have no connection with whether system is open or not since it can still send on internet. The big thing is that open systems can then communicate with one another and have hardware and software that can communicate on the same network. This was ofcourse a big disagreement when Apple was being founded between Jobs and Wazniack. Jobs however ended up arguing for an open system, which apple still uses to this day. Link to question: https://apclassroom.collegeboard.org/103/assessments/results/54146602/performance/1123181"
   ]
  },
  {
   "cell_type": "markdown",
   "metadata": {},
   "source": [
    "Question 41. So the annswer in B takes the max procedure to take the higher of the two scores to become the midterm score. The thing is that whatever that score is then has to be added to the Final Exam score, the problem is that before there isn't the + Final Exam so it only takes it for one exam which is why it's incorrect. Link to question: https://apclassroom.collegeboard.org/103/assessments/results/54146602/performance/1123183"
   ]
  },
  {
   "cell_type": "markdown",
   "metadata": {},
   "source": [
    "Question 42. Since IPv4 has 2^32 open addresses while IPv6 has 2^128 open addresses. We're being asked to calculate the difference which then becomes 2^96 since you just subtract the exponents between the values. You have to use exponent rules between the values. Link to question: https://apclassroom.collegeboard.org/103/assessments/results/54146602/performance/1123184"
   ]
  },
  {
   "cell_type": "markdown",
   "metadata": {},
   "source": [
    "Question 44. The way it works with a 4 bit integer is that you can only do 2^4 which is 16 values. Which means you can only do 0 through 15 inclusive. The problem is that with 10 + 7 will create a value that is larger then 15, so it can't work. Link to question: https://apclassroom.collegeboard.org/103/assessments/results/54146602/performance/1123186"
   ]
  },
  {
   "cell_type": "markdown",
   "metadata": {},
   "source": [
    "General notes for improvement: "
   ]
  },
  {
   "cell_type": "markdown",
   "metadata": {},
   "source": [
    "I think the questions that involve a square grid are the ones I need to improve on. I have gained a better understanding of conditional statements and how to use the \"if\" loop to check if certain conditions are met and how to use that to my advantage. I also appreciate what I've learned through the iterations project; it helped me understand how to interpret information in strings. However, I also need to understand how a function examines all the values in a string and selects specific ones."
   ]
  }
 ],
 "metadata": {
  "language_info": {
   "name": "python"
  },
  "orig_nbformat": 4
 },
 "nbformat": 4,
 "nbformat_minor": 2
}
